{
  "nbformat": 4,
  "nbformat_minor": 0,
  "metadata": {
    "colab": {
      "provenance": []
    },
    "kernelspec": {
      "name": "python3",
      "display_name": "Python 3"
    }
  },
  "cells": [
    {
      "cell_type": "markdown",
      "metadata": {
        "id": "UnR0tpGvoOLg"
      },
      "source": [
        "# Python演習課題1\n",
        "※コードを実行する際は，▶ ボタンをクリックするか，ShiftキーとEnterキーを同時に押してください．"
      ]
    },
    {
      "cell_type": "markdown",
      "metadata": {
        "id": "jwqAjqESuyBK"
      },
      "source": [
        "**課題①**<br>\n",
        "print関数を用いて，文字列「Hello, world!」を表示してみましょう．"
      ]
    },
    {
      "cell_type": "code",
      "metadata": {
        "id": "pRnsB1zHvv9f",
        "colab": {
          "base_uri": "https://localhost:8080/"
        },
        "outputId": "a96fc078-1be9-457a-ae13-f16a7d765641"
      },
      "source": [
        "print('Hello, world!')"
      ],
      "execution_count": null,
      "outputs": [
        {
          "output_type": "stream",
          "name": "stdout",
          "text": [
            "Hello, world!\n"
          ]
        }
      ]
    },
    {
      "cell_type": "markdown",
      "metadata": {
        "id": "gXwxtgqDv0Y-"
      },
      "source": [
        "**課題②**<br>\n",
        "input関数を用いてキーボードから文字列を入力し，それを変数<code>str1</code>（ここで<code>str1</code>は変数につけた名前（ラベル）であり，変数の使い方については講義資料22ページ以降を確認）に代入してください．<br>\n",
        "そして，その変数<code>str1</code>の内容をprint関数を用いて表示してください．"
      ]
    },
    {
      "cell_type": "code",
      "metadata": {
        "id": "RO9GE7s7wXaF",
        "colab": {
          "base_uri": "https://localhost:8080/"
        },
        "outputId": "c1a9cdda-0369-44a5-cd4d-2edd6de4fcd4"
      },
      "source": [
        "str1=input('なにか入力してね！: ')\n",
        "print(str1)"
      ],
      "execution_count": null,
      "outputs": [
        {
          "output_type": "stream",
          "name": "stdout",
          "text": [
            "なにか入力してね！: hogehoge\n",
            "hogehoge\n"
          ]
        }
      ]
    },
    {
      "cell_type": "markdown",
      "metadata": {
        "id": "q4KVVbOFwvPH"
      },
      "source": [
        "**課題③**<br>\n",
        "課題②と同様に，input関数を用いてキーボードから文字列を入力し，それを変数<code>str2</code>に代入してください．<br>\n",
        "そして，変数<code>str1</code>と変数<code>str2</code>を連結した文字列を変数<code>str3</code>に代入し，変数<code>str3</code>の内容をprint関数で表示してください．"
      ]
    },
    {
      "cell_type": "code",
      "metadata": {
        "id": "WJAlZyO1w9kY",
        "colab": {
          "base_uri": "https://localhost:8080/"
        },
        "outputId": "482441c1-b5b6-4c27-bb36-c9748bdce3dc"
      },
      "source": [
        "str1=input('なにか入れてね！: ')\n",
        "str2=input('なにか打ってね！: ')\n",
        "str3=str1+str2\n",
        "print(str3)"
      ],
      "execution_count": null,
      "outputs": [
        {
          "output_type": "stream",
          "name": "stdout",
          "text": [
            "なにか入れてね！: hoge1\n",
            "なにか打ってね！: hoge2\n",
            "hoge1hoge2\n"
          ]
        }
      ]
    },
    {
      "cell_type": "markdown",
      "metadata": {
        "id": "IRdGjNUrjJcN"
      },
      "source": [
        "**課題④**<br>\n",
        "変数<code>str1</code>と変数<code>str2</code>の間に改行コード（<code>'\\n'</code>）を挿入した文字列を作成し，変数<code>str4</code>に代入してください．<br>\n",
        "そして，変数<code>str4</code>の内容をprint関数を用いて表示してください．\n",
        "\n",
        "[ヒント] 変数<code>str1</code>と変数<code>str2</code>と改行コードを課題③と同じ方法で連結してみましょう．"
      ]
    },
    {
      "cell_type": "code",
      "metadata": {
        "id": "gcUydAj5wQuK",
        "colab": {
          "base_uri": "https://localhost:8080/"
        },
        "outputId": "5f97c27b-8e8b-42c4-92b0-37a82b58d4d4"
      },
      "source": [
        "str1=input('なにか入れてね！: ')\n",
        "str2=input('なにか打ってね！: ')\n",
        "str4=str1+'\\n'+str2\n",
        "print(str4)"
      ],
      "execution_count": null,
      "outputs": [
        {
          "output_type": "stream",
          "name": "stdout",
          "text": [
            "なにか入れてね！: hoge1\n",
            "なにか打ってね！: hoge2\n",
            "hoge1\n",
            "hoge2\n"
          ]
        }
      ]
    },
    {
      "cell_type": "markdown",
      "metadata": {
        "id": "lHjC5Teotlei"
      },
      "source": [
        "**課題⑤**<br>\n",
        "課題③のプログラムでは，数値を入力しても可算されず，連結したものが表示されるはずです．<br>\n",
        "課題③のプログラムを改変し，入力された2つの整数を足し合わせた結果を表示するプログラムを作ってください．<br>\n"
      ]
    },
    {
      "cell_type": "code",
      "metadata": {
        "id": "63iWGyGhmup5",
        "colab": {
          "base_uri": "https://localhost:8080/"
        },
        "outputId": "b24affcb-f900-44fa-a8d2-c731c51f6778"
      },
      "source": [
        "str1=input('1個目の半角数字を入れてね！: ')\n",
        "str2=input('2個目の半角数字を打ってね！: ')\n",
        "str3=int(str1)+int(str2)\n",
        "print('合計: '+str(str3))"
      ],
      "execution_count": null,
      "outputs": [
        {
          "output_type": "stream",
          "name": "stdout",
          "text": [
            "1個目の半角数字を入れてね！: 1138\n",
            "2個目の半角数字を打ってね！: 2187\n",
            "合計: 3325\n"
          ]
        }
      ]
    },
    {
      "cell_type": "code",
      "source": [
        "# 余談: 半角数字以外が入力された場合のエラー処理\n",
        "\n",
        "str1=input('1個目の半角数字を入れてね！: ')\n",
        "\n",
        "while True: # エラー処理\n",
        "  if str1.isdecimal():\n",
        "    break\n",
        "  else:\n",
        "    str1=input('無効な文字列だよ。1個目の半角数字を入れてね！: ')\n",
        "\n",
        "str2=input('2個目の半角数字を打ってね！: ')\n",
        "\n",
        "while True: # エラー処理\n",
        "  if str2.isdecimal():\n",
        "    break\n",
        "  else:\n",
        "    str2=input('無効な文字列だよ。2個目の半角数字を打ってね！: ')\n",
        "\n",
        "str3=int(str1)+int(str2)\n",
        "print('合計: '+str(str3)+' + '+str(str3)+' = '+str(str3))"
      ],
      "metadata": {
        "colab": {
          "base_uri": "https://localhost:8080/"
        },
        "id": "zGzGfMxxgga9",
        "outputId": "fe650886-8c95-42a1-a9b4-7b5ea89ee26d"
      },
      "execution_count": null,
      "outputs": [
        {
          "output_type": "stream",
          "name": "stdout",
          "text": [
            "1個目の半角数字を入れてね！: ほげ\n",
            "無効な文字列だよ。1個目の半角数字を入れてね！: 1138\n",
            "2個目の半角数字を打ってね！: hoge\n",
            "無効な文字列だよ。2個目の半角数字を打ってね！: 2187\n",
            "合計: 3325 + 3325 = 3325\n"
          ]
        }
      ]
    },
    {
      "cell_type": "markdown",
      "source": [],
      "metadata": {
        "id": "_3K79ou5htyt"
      }
    }
  ]
}