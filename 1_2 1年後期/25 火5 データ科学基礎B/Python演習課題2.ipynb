{
  "nbformat": 4,
  "nbformat_minor": 0,
  "metadata": {
    "colab": {
      "provenance": []
    },
    "kernelspec": {
      "name": "python3",
      "display_name": "Python 3"
    }
  },
  "cells": [
    {
      "cell_type": "markdown",
      "metadata": {
        "id": "9N7aSS2gax69"
      },
      "source": [
        "#Python演習課題2\n",
        "※コードを実行する際は，▶ ボタンをクリックするか，ShiftキーとEnterキーを同時に押してください．\n",
        "\n",
        "※<code>[ア]</code>や<code>[イ]</code>などにコードを記入する際は，角括弧（[]）は削除してください．\n"
      ]
    },
    {
      "cell_type": "markdown",
      "metadata": {
        "id": "wiDpuREAaz5h"
      },
      "source": [
        "## アルキメデスの円周率\n",
        "\n",
        "---\n",
        "\n",
        "半径1の円に内接する正N角形の周の長さの半分をp<sub>N</sub>、外接する正N角形の周の長さの半分をq<sub>N</sub>とすると， \\\\\n",
        "$$p_N < π < q_N \\tag{1} $$ \\\\\n",
        "が成り立ちます． \\\\\n",
        "\n",
        "また，半径1の円に内接する正2N角形の周の長さの半分p<sub>2N</sub>，外接する正2N角形の周の長さの半分q<sub>2N</sub>はそれぞれ \\\\\n",
        "$$q_{2N}=\\frac{2p_Nq_N}{p_N+q_N} \\tag{2}$$ \\\\\n",
        "$$p_{2N}=\\sqrt{p_Nq_{2N}}\\tag{3} $$\n",
        "となります． \\\\\n",
        "\n",
        "---\n",
        "\n",
        "**課題①** \\\\\n",
        "N=6のとき，p<sub>6</sub> = 3, q<sub>6</sub> = 2√3です． \\\\\n",
        "N=12のとき円周率πはどこからどこの範囲になるかを求めましょう（小数第6位まで）． \\\\\n",
        "<code>[ア][イ]</code>を埋めて実装してください．"
      ]
    },
    {
      "cell_type": "code",
      "metadata": {
        "id": "L2e4CbRFasvU",
        "colab": {
          "base_uri": "https://localhost:8080/"
        },
        "outputId": "7eb968f4-e46f-4f7e-88e9-f6d282b81e93"
      },
      "source": [
        "p = 3\n",
        "q = 2 * 3 ** 0.5\n",
        "n = 6\n",
        "\n",
        "n = n * 2\n",
        "q = (2 * p * q) / (p + q)\n",
        "p = (p * q) ** 0.5\n",
        "print('正{0}角形のとき円周率πは{1:.6f}から{2:.6f}の間である'.format(n, p, q))"
      ],
      "execution_count": null,
      "outputs": [
        {
          "output_type": "stream",
          "name": "stdout",
          "text": [
            "正12角形のとき円周率πは3.105829から3.215390の間である\n"
          ]
        }
      ]
    },
    {
      "cell_type": "markdown",
      "metadata": {
        "id": "46raHdoUa6X4"
      },
      "source": [
        "**課題②** \\\\\n",
        "N=12, N=24, N=48のときに円周率はどこからどこの範囲になるかを求めましょう． \\\\\n",
        "ループ(for)を利用して課題①の5～6行目の計算を3回繰り返す実装にしてください（小数第6位まで）． \\\\\n",
        "ただし，<code>[ア][イ]</code>は課題①と同じものが入ります．"
      ]
    },
    {
      "cell_type": "code",
      "metadata": {
        "id": "48LtFxn8a8S3",
        "colab": {
          "base_uri": "https://localhost:8080/"
        },
        "outputId": "d3981946-2b19-4f5f-c365-6793b2696b16"
      },
      "source": [
        "p = 3\n",
        "q = 2 * 3 ** 0.5\n",
        "n = 6\n",
        "\n",
        "for i in range(3):\n",
        "  n = n * 2\n",
        "  q = (2 * p * q) / (p + q)\n",
        "  p = (p * q) ** 0.5\n",
        "  print('正{0}角形のとき円周率πは{1:.6f}から{2:.6f}の間である'.format(n, p, q))"
      ],
      "execution_count": null,
      "outputs": [
        {
          "output_type": "stream",
          "name": "stdout",
          "text": [
            "正12角形のとき円周率πは3.105829から3.215390の間である\n",
            "正24角形のとき円周率πは3.132629から3.159660の間である\n",
            "正48角形のとき円周率πは3.139350から3.146086の間である\n"
          ]
        }
      ]
    },
    {
      "cell_type": "markdown",
      "metadata": {
        "id": "6gsCQ5i1l0k2"
      },
      "source": [
        "**課題③** \\\\\n",
        "N=3072のとき円周率πはどこからどこの範囲になるかを求めましょう（小数第6位まで）． \\\\\n",
        "ループ（while）を利用して実装し，ループの条件にNを使いましょう．"
      ]
    },
    {
      "cell_type": "code",
      "metadata": {
        "id": "tCmiDmVvl6DC",
        "colab": {
          "base_uri": "https://localhost:8080/"
        },
        "outputId": "542c2737-1fbf-44f3-cffa-15d87a0b6a30"
      },
      "source": [
        "p = 3\n",
        "q = 2 * 3 ** 0.5\n",
        "n = 6\n",
        "\n",
        "while n < 3072:\n",
        "  n = n * 2\n",
        "  q = (2 * p * q) / (p + q)\n",
        "  p = (p * q) ** 0.5\n",
        "  print('正{0}角形のとき円周率πは{1:.6f}から{2:.6f}の間である'.format(n, p, q))"
      ],
      "execution_count": null,
      "outputs": [
        {
          "output_type": "stream",
          "name": "stdout",
          "text": [
            "正12角形のとき円周率πは3.105829から3.215390の間である\n",
            "正24角形のとき円周率πは3.132629から3.159660の間である\n",
            "正48角形のとき円周率πは3.139350から3.146086の間である\n",
            "正96角形のとき円周率πは3.141032から3.142715の間である\n",
            "正192角形のとき円周率πは3.141452から3.141873の間である\n",
            "正384角形のとき円周率πは3.141558から3.141663の間である\n",
            "正768角形のとき円周率πは3.141584から3.141610の間である\n",
            "正1536角形のとき円周率πは3.141590から3.141597の間である\n",
            "正3072角形のとき円周率πは3.141592から3.141594の間である\n"
          ]
        }
      ]
    }
  ]
}