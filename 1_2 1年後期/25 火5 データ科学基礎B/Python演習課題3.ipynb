{
  "nbformat": 4,
  "nbformat_minor": 0,
  "metadata": {
    "colab": {
      "provenance": []
    },
    "kernelspec": {
      "name": "python3",
      "display_name": "Python 3"
    }
  },
  "cells": [
    {
      "cell_type": "markdown",
      "metadata": {
        "id": "-maOE4RuWW2u"
      },
      "source": [
        "# Python演習課題3\n",
        "※コードを実行する際は，▶ ボタンをクリックするか，ShiftキーとEnterキーを同時に押してください．\n",
        "\n",
        "※<code>[ア]</code>や<code>[イ]</code>などにコードを記入する際は，角括弧（[]）は削除してください．"
      ]
    },
    {
      "cell_type": "markdown",
      "metadata": {
        "id": "ChUmGycpRi41"
      },
      "source": [
        "## バブルソート\n",
        "\n",
        "---\n",
        "\n",
        "バブルソートは，ソート（並び替え）アルゴリズムの一種です．\n",
        "バラバラに並んでいるデータに対して，隣り合う要素の大小比較と交換を繰り返すことで，全体をソートします．<br>\n",
        "具体的な手順は，\n",
        "\n",
        "1.   1つ目の値と2つ目の値を比較し，1つ目の方が大きければ左右を交換\n",
        "2.   2つ目の値と3つ目の値を比較し，2つ目の方が大きければ左右を交換\n",
        "3.   同様に3つ目以降も比較と交換を繰り返すと，一番大きな値が最も右にくる\n",
        "4.   再度1～3の手順を最も右の1つ前まで繰り返すと，2番目に大きな値が右から2番目にくる\n",
        "5.   再度1～3の手順を最も右の2つ前まで繰り返すと，3番目に大きな値が右から3番目にくる\n",
        "6.   これをすべての要素が並ぶまで繰り返す\n",
        "\n",
        "です．<br>\n",
        "アルゴリズムが単純で実装が容易な反面，実行速度が遅いというデメリットがあります．\n",
        "\n",
        "---\n",
        "\n",
        "<font size=\"+1\">**課題①**</font><br>\n",
        "以下のコードは，10個の数字が並んだリストをバブルソートによって並び替えるプログラムです．<br>\n",
        "コード内の<code>[ア][イ]</code>を埋め，適切に動作するようにしてください．"
      ]
    },
    {
      "cell_type": "code",
      "metadata": {
        "id": "YeYXnNsv5ndM",
        "colab": {
          "base_uri": "https://localhost:8080/"
        },
        "outputId": "100db9fa-84cf-432e-e6a9-091b47211a54"
      },
      "source": [
        "# ソートされていないリスト\n",
        "a = [4, 9, 6, 3, 2, 10, 5, 7, 1, 8]\n",
        "\n",
        "for i in range( len( a ) - 1 ):  # i=0,1,2,...,len(a)-2\n",
        "\n",
        "  for j in range( len( a ) - i - 1 ):  # j=0,1,2,...,len(a)-i-2\n",
        "\n",
        "    # 左の値が右の値より大きい場合\n",
        "    if a[j] > a[j + 1]:\n",
        "\n",
        "      # 入れ替える\n",
        "      tmp = a[j+1]\n",
        "      a[j+1] = a[j]\n",
        "      a[j] = tmp\n",
        "\n",
        "# 結果を表示\n",
        "print(\"Result : \", a)"
      ],
      "execution_count": null,
      "outputs": [
        {
          "output_type": "stream",
          "name": "stdout",
          "text": [
            "Result :  [1, 2, 3, 4, 5, 6, 7, 8, 9, 10]\n"
          ]
        }
      ]
    },
    {
      "cell_type": "markdown",
      "metadata": {
        "id": "tbZ0VCG00hGN"
      },
      "source": [
        "<font size=\"+1\">**課題②**</font><br>\n",
        "課題①のコードを改変して，10個の数字が並んだリストを逆順（数字の大きい順）に並べ替えるようにしてください．<br>\n",
        "ソート対象のリストは課題①と同じものとしてください．"
      ]
    },
    {
      "cell_type": "code",
      "metadata": {
        "id": "0JAaCMDt036k",
        "colab": {
          "base_uri": "https://localhost:8080/"
        },
        "outputId": "e4b06bdb-244b-4422-9d73-91b5727c1930"
      },
      "source": [
        "# ソートされていないリスト\n",
        "a = [4, 9, 6, 3, 2, 10, 5, 7, 1, 8]\n",
        "\n",
        "# ここにバブルソート（逆順）を実装\n",
        "for i in range(len(a)-1):\n",
        "    for j in range(len(a)-i-1):\n",
        "        if a[j] < a[j+1]:\n",
        "            tmp = a[j+1]\n",
        "            a[j+1] = a[j]\n",
        "            a[j] = tmp\n",
        "\n",
        "# 結果を表示\n",
        "print(\"Result : \", a)"
      ],
      "execution_count": null,
      "outputs": [
        {
          "output_type": "stream",
          "name": "stdout",
          "text": [
            "Result :  [10, 9, 8, 7, 6, 5, 4, 3, 2, 1]\n"
          ]
        }
      ]
    },
    {
      "cell_type": "markdown",
      "metadata": {
        "id": "n8i57culZqkL"
      },
      "source": [
        "<font size=\"+1\">**課題③**</font><br>\n",
        "以下に，7人のメンバーの苗字と身長[cm]を保持した辞書のリストを用意しました．<br>\n",
        "これをバブルソートを用いて，背の順（身長が低い方から順番に並ぶ）に並べ替えます．"
      ]
    },
    {
      "cell_type": "code",
      "metadata": {
        "id": "yenszD0qQe3Y"
      },
      "source": [
        "# あいうえお順にソートされたメンバーリスト\n",
        "member_list = [\n",
        "  { 'name' : '雨宮', 'height' : 149 },\n",
        "  { 'name' : '加賀', 'height' : 183 },\n",
        "  { 'name' : '鈴木', 'height' : 168 },\n",
        "  { 'name' : '椎名', 'height' : 153 },\n",
        "  { 'name' : '高木', 'height' : 157 },\n",
        "  { 'name' : '田中', 'height' : 168 },\n",
        "  { 'name' : '山本', 'height' : 175 }\n",
        "]"
      ],
      "execution_count": null,
      "outputs": []
    },
    {
      "cell_type": "markdown",
      "metadata": {
        "id": "NKyYvKilQfT0"
      },
      "source": [
        "**課題③-1**<br>\n",
        "背の順でソートするためには，<code>member_list</code>の要素のうち，<code>'height'</code>にアクセスする必要があります．<br>\n",
        "コード内の<code>[ウ]</code>を埋めて，<code>member_list</code>の先頭（0番目）の雨宮さんの<code>'height'</code>を表示してください．<br>\n",
        "以下のコードを実行する前に，上のコードブロックを忘れずに実行しておいてください．"
      ]
    },
    {
      "cell_type": "code",
      "metadata": {
        "id": "sNSCKeUQRC45",
        "colab": {
          "base_uri": "https://localhost:8080/"
        },
        "outputId": "1dbe98f7-4a47-438f-d9e5-e428e2d4b1e9"
      },
      "source": [
        "print(member_list[0]['height'])"
      ],
      "execution_count": null,
      "outputs": [
        {
          "output_type": "stream",
          "name": "stdout",
          "text": [
            "149\n"
          ]
        }
      ]
    },
    {
      "cell_type": "markdown",
      "metadata": {
        "id": "iTzfqqXbRIu0"
      },
      "source": [
        "**課題③-2**<br>\n",
        "<code>member_list</code>を見ると，加賀さんは鈴木さんより身長が高いことがわかります．<br>\n",
        "コード内の<code>[エ]</code>を埋め，<code>member_list[1]</code>の加賀さんと<code>member_list[2]</code>の鈴木さんを入れ替えて下さい．<br>\n",
        "コード内の<code>[オ]</code>を埋め，<code>member_list</code>の中身をすべて表示して下さい．"
      ]
    },
    {
      "cell_type": "code",
      "metadata": {
        "id": "IF-_Sk-wRvCl",
        "colab": {
          "base_uri": "https://localhost:8080/"
        },
        "outputId": "14724e8b-677a-4103-cddf-b83f5101bc8f"
      },
      "source": [
        "# 加賀さんと鈴木さんを入れ替える\n",
        "temp = member_list[1]\n",
        "member_list[1] = member_list[2]\n",
        "member_list[2] = temp\n",
        "\n",
        "# 結果を表示\n",
        "for member in member_list:\n",
        "  print('{} : {}cm'.format(member['name'], member['height']))"
      ],
      "execution_count": null,
      "outputs": [
        {
          "output_type": "stream",
          "name": "stdout",
          "text": [
            "雨宮 : 149cm\n",
            "鈴木 : 168cm\n",
            "加賀 : 183cm\n",
            "椎名 : 153cm\n",
            "高木 : 157cm\n",
            "田中 : 168cm\n",
            "山本 : 175cm\n"
          ]
        }
      ]
    },
    {
      "cell_type": "markdown",
      "metadata": {
        "id": "xRfvXFqNSN05"
      },
      "source": [
        "**課題③-3**<br>\n",
        "課題③-1，2をもとに，コード内<code>[カ][キ]</code>を埋め，<code>member_list</code>を背の順（身長が低い方から順番に並ぶ）にソートしてください．"
      ]
    },
    {
      "cell_type": "code",
      "metadata": {
        "id": "CIPG2hKi_oMq",
        "colab": {
          "base_uri": "https://localhost:8080/"
        },
        "outputId": "64847155-ef8e-4d2d-d3b9-45e4001fd86a"
      },
      "source": [
        "# バブルソート\n",
        "for i in range( len( member_list ) - 1 ):\n",
        "\n",
        "  for j in range( len( member_list ) - i - 1 ):\n",
        "\n",
        "    # 左より右の方が身長が小さい場合\n",
        "    if member_list[j]['height'] > member_list[j+1]['height']:\n",
        "\n",
        "      # 入れ替える\n",
        "        temp = member_list[j+1]\n",
        "        member_list[j+1] = member_list[j]\n",
        "        member_list[j] = temp\n",
        "\n",
        "# 結果を表示\n",
        "for member in member_list:\n",
        "  print('{} : {}cm'.format(member['name'], member['height']))"
      ],
      "execution_count": null,
      "outputs": [
        {
          "output_type": "stream",
          "name": "stdout",
          "text": [
            "雨宮 : 149cm\n",
            "椎名 : 153cm\n",
            "高木 : 157cm\n",
            "鈴木 : 168cm\n",
            "田中 : 168cm\n",
            "山本 : 175cm\n",
            "加賀 : 183cm\n"
          ]
        }
      ]
    }
  ]
}