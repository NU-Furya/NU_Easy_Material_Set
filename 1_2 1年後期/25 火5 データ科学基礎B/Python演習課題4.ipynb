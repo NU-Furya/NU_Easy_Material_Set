{
  "nbformat": 4,
  "nbformat_minor": 0,
  "metadata": {
    "colab": {
      "provenance": []
    },
    "kernelspec": {
      "name": "python3",
      "display_name": "Python 3"
    }
  },
  "cells": [
    {
      "cell_type": "markdown",
      "metadata": {
        "id": "OYNBdVHDp2FD"
      },
      "source": [
        "#Python演習課題4\n",
        "※コードを実行する際は，▶ ボタンをクリックするか，ShiftキーとEnterキーを同時に押してください．\n",
        "\n",
        "※<code>[ア]</code>や<code>[イ]</code>などにコードを記入する際は，角括弧（[]）は削除してください．"
      ]
    },
    {
      "cell_type": "markdown",
      "metadata": {
        "id": "hHv0eOsOCRYH"
      },
      "source": [
        "## トリボナッチ数列\n",
        "---\n",
        "トリボナッチ数列は 0, 1, 1 で始まり，以後の項がその前の3つの項の和となる数列です．<br>具体的なトリボナッチ数列の漸化式は次の通りです．\n",
        "\n",
        "\n",
        "* F<sub>1</sub>=0\n",
        "* F<sub>2</sub>=1\n",
        "* F<sub>3</sub>=1\n",
        "* F<sub>n</sub>=F<sub>n-1</sub>+F<sub>n-2</sub>+F<sub>n-3</sub> (n>=4)\n",
        "\n",
        "---\n",
        "\n",
        "**課題①**\n",
        "以下のコードは,トリボナッチ数列の10番目の値を表示するプログラムです．<br>\n",
        "コード内の<code>[ア][イ][ウ]</code>を埋め，適切に動作するようにしてください．"
      ]
    },
    {
      "cell_type": "code",
      "metadata": {
        "id": "AAU9YBTACfbb",
        "colab": {
          "base_uri": "https://localhost:8080/"
        },
        "outputId": "0cf0217c-c449-46ba-df97-d5a9c2f882bd"
      },
      "source": [
        "def Trib(a):\n",
        "  if a <= 1:\n",
        "    return 0\n",
        "  elif a <= 3:\n",
        "    return 1\n",
        "  else:\n",
        "    return Trib(a-1) + Trib(a-2) + Trib(a-3)\n",
        "\n",
        "#結果を表示\n",
        "t = Trib(10)\n",
        "print(t)"
      ],
      "execution_count": null,
      "outputs": [
        {
          "output_type": "stream",
          "name": "stdout",
          "text": [
            "81\n"
          ]
        }
      ]
    },
    {
      "cell_type": "markdown",
      "metadata": {
        "id": "PIAkYCB8p404"
      },
      "source": [
        "## 2分探索法\n",
        "---\n",
        "\n",
        "次の説明に従い配列dataの要素から内線番号が一致するものを探索するプログラムを実装してください．<br>ただし，配列dataは内線番号をもとに昇順にソート済みです．<br>課題①～③を実行する前に，下記のコードブロックを実行してください．\n",
        "\n",
        "---"
      ]
    },
    {
      "cell_type": "code",
      "metadata": {
        "id": "U-ZW4uNYWhBf"
      },
      "source": [
        "data = [\n",
        "   {'number':1003, 'name':'加藤'},\n",
        "   {'number':1032, 'name':'佐藤'},\n",
        "   {'number':1039, 'name':'高橋'},\n",
        "   {'number':1847, 'name':'田中'},\n",
        "   {'number':2354, 'name':'伊藤'},\n",
        "   {'number':3212, 'name':'渡辺'},\n",
        "   {'number':4634, 'name':'山本'},\n",
        "   {'number':6183, 'name':'鈴木'},\n",
        "   {'number':6845, 'name':'中村'},\n",
        "   {'number':8923, 'name':'小林'}\n",
        "  ]"
      ],
      "execution_count": null,
      "outputs": []
    },
    {
      "cell_type": "markdown",
      "metadata": {
        "id": "9QKG_Uy6okFK"
      },
      "source": [
        "**課題②** \\\\\n",
        "以下のコードは，配列dataの中身を順に調べ，内線番号が6183の人物名を表示するプログラムです．<br>\n",
        "コード内の<code>[エ][オ]</code>を埋め，適切に動作するようにしてください．"
      ]
    },
    {
      "cell_type": "code",
      "metadata": {
        "id": "Aqrv7l3E1Eal",
        "colab": {
          "base_uri": "https://localhost:8080/"
        },
        "outputId": "0930647d-4190-492d-bb2d-12e0f023e761"
      },
      "source": [
        "def search(arr, query):\n",
        "  for a in arr:\n",
        "\n",
        "    #ループ変数aの内線番号とqueryが等しいとき\n",
        "    if a['number'] == query:\n",
        "\n",
        "      #ループ変数aの名前を返す\n",
        "      return a['name']\n",
        "\n",
        "  return None\n",
        "\n",
        "#探索したい内線番号\n",
        "num = 6183\n",
        "\n",
        "#結果を表示\n",
        "res = search(data, num)\n",
        "print('内線番号が{}の人は{}さんです'.format(num, res))"
      ],
      "execution_count": null,
      "outputs": [
        {
          "output_type": "stream",
          "name": "stdout",
          "text": [
            "内線番号が6183の人は鈴木さんです\n"
          ]
        }
      ]
    },
    {
      "cell_type": "markdown",
      "metadata": {
        "id": "ujpgEgSC22dN"
      },
      "source": [
        "**課題③** \\\\\n",
        "以下のコードは次のように探索し，内線番号が8923の人物名を表示するプログラムです．\n",
        "1. 配列中央の内線番号と探索する内線番号を比較する．\n",
        "2. 等しい場合は，それを探索結果として、名前を返す．\n",
        "3. 探索する内線番号が小さい場合は，中央より左側の配列を順に探索し内線番号が等しい人の名前を返す．\n",
        "4. 探索する内線番号が大きい場合は，中央より右側の配列を順に探索し内線番号が等しい人の名前を返す．\n",
        "\n",
        "コード内の<code>[カ][キ][ク][ケ]</code>を埋め，適切に動作するようにしてください．<br>\n",
        "プログラム中の順に探索する部分は課題②で作成した関数を用いてもよいです．"
      ]
    },
    {
      "cell_type": "code",
      "metadata": {
        "id": "gCMk2UV_5OQ0",
        "colab": {
          "base_uri": "https://localhost:8080/"
        },
        "outputId": "bd5b41b2-3f64-4ce8-a446-f27170c5b58a"
      },
      "source": [
        "def search2(arr, query):\n",
        "  #配列中央のインデックスを計算\n",
        "  mid = len(arr) // 2\n",
        "\n",
        "  #配列中央の内線番号と探索したい内線番号が等しいとき\n",
        "  if arr[mid]['number'] == query:\n",
        "\n",
        "    #名前を返す\n",
        "    return arr[mid]['name']\n",
        "\n",
        "  #配列中央の内線番号より探索したい内線番号が小さいとき\n",
        "  elif arr[mid]['number'] > query:\n",
        "\n",
        "    #課題②の順番に探索を中央より左側の配列だけで行う\n",
        "    return search(arr[:mid], query)\n",
        "\n",
        "  #配列中央の内線番号より探索したい内線番号が大きいとき\n",
        "  elif arr[mid]['number'] < query:\n",
        "\n",
        "    #課題②の順番に探索を中央より右側の配列だけで行う\n",
        "    return search(arr[mid+1:], query)\n",
        "\n",
        "\n",
        "#探索したい内線番号\n",
        "num = 8923\n",
        "\n",
        "#結果を表示\n",
        "res = search2(data, num)\n",
        "print('内線番号が{}の人は{}さんです'.format(num, res))"
      ],
      "execution_count": null,
      "outputs": [
        {
          "output_type": "stream",
          "name": "stdout",
          "text": [
            "内線番号が8923の人は小林さんです\n"
          ]
        }
      ]
    },
    {
      "cell_type": "markdown",
      "metadata": {
        "id": "Y_UhAIwfOnvJ"
      },
      "source": [
        "**課題④** \\\\\n",
        "課題③を拡張し、再帰関数を用いて2分探索を実装します．<br>\n",
        "以下のコードは，次のように2分探索をし，内線番号が2354の人物名を表示するプログラムです．\n",
        "1. 配列中央の内線番号と探索する内線番号を比較する．\n",
        "2. 等しい場合にはそれを探索結果として、名前を返す．\n",
        "3. 小さい場合は中央より左側の配列を2分探索する．\n",
        "4. 大きい場合は中央より右側の配列を2分探索する．\n",
        "\n",
        "コード内の<code>[コ][サ][シ]</code>を埋めて2分探索を実装し，適切に動作するようにしてください．<br>\n",
        "ただし，<code>[カ][キ][ク][ケ]</code>には課題③と同じものが入ります．<br>\n",
        "また，<code>binary_search</code>関数内では<code>search</code>関数や<code>search2</code>関数は使わないようにしてください．"
      ]
    },
    {
      "cell_type": "code",
      "metadata": {
        "id": "nj8wH_1aF5MQ",
        "colab": {
          "base_uri": "https://localhost:8080/"
        },
        "outputId": "5667f6c4-0fa6-4cdc-9183-47993c323dac"
      },
      "source": [
        "#2分探索関数\n",
        "def binary_search(arr, query):\n",
        "  #配列中央のインデックスを計算\n",
        "  mid = len(arr) // 2\n",
        "\n",
        "  #配列arrの要素数が0の場合\n",
        "  if len(arr) == 0:\n",
        "\n",
        "    return None\n",
        "\n",
        "  #配列中央の内線番号と探索したい内線番号が等しいとき\n",
        "  elif arr[mid]['number'] == query:\n",
        "\n",
        "    return arr[mid]['name']\n",
        "\n",
        "  #配列中央の内線番号より探索したい内線番号が小さいとき\n",
        "  elif arr[mid]['number'] > query:\n",
        "\n",
        "    #配列の中央より左側の配列を2分探索\n",
        "    return binary_search(arr[:mid], query)\n",
        "\n",
        "  #配列中央の内線番号より探索したい内線番号が大きいとき\n",
        "  elif arr[mid]['number'] < query:\n",
        "\n",
        "    #配列の中央より右側の配列を2分探索\n",
        "    return binary_search(arr[mid+1:], query)\n",
        "\n",
        "\n",
        "#探索したい内線番号\n",
        "num = 2354\n",
        "\n",
        "#結果を表示\n",
        "res = binary_search(data, num)\n",
        "print('内線番号が{}の人は{}さんです'.format(num, res))"
      ],
      "execution_count": null,
      "outputs": [
        {
          "output_type": "stream",
          "name": "stdout",
          "text": [
            "内線番号が2354の人は伊藤さんです\n"
          ]
        }
      ]
    }
  ]
}