{
  "nbformat": 4,
  "nbformat_minor": 0,
  "metadata": {
    "colab": {
      "provenance": []
    },
    "kernelspec": {
      "name": "python3",
      "display_name": "Python 3"
    }
  },
  "cells": [
    {
      "cell_type": "markdown",
      "metadata": {
        "id": "MucFZ_k9-jtb"
      },
      "source": [
        "# Python演習課題7\n",
        "※コードを実行する際は，▶ ボタンをクリックするか，ShiftキーとEnterキーを同時に押してください．\n",
        "\n",
        "※<code>[ア]</code>や<code>[イ]</code>などにコードを記入する際は，角括弧（[]）は削除してください．"
      ]
    },
    {
      "cell_type": "markdown",
      "metadata": {
        "id": "Obu0cttwVsjF"
      },
      "source": [
        "**課題①-1**<br>\n",
        "分類タスクの学習と評価を行うためのデータを読み込みます．<br>\n",
        "今回は[Titanic Dataset](http://stanford.io/3hWsoR7)を利用します．このデータには，タイタニック号乗船者の生存状況（0：死亡，1：生存）と，各乗船者の属性のデータが含まれています．属性には，\n",
        "\n",
        "* 性別（男性：0，女性：1）\n",
        "* 年齢\n",
        "* 乗客クラス（1～3等）\n",
        "* タイタニック号に同乗した兄弟，配偶者の数\n",
        "* タイタニック号に同乗した親，子の数\n",
        "* 旅客運賃\n",
        "\n",
        "があります．<br>\n",
        "\n",
        "以下の<code>[    ア    ]</code>を埋め，csvファイルからデータを読み込みましょう．なお，csvファイルは https://bit.ly/3q3kCYF から取得してください．適切に読み込まれたら，内容が表示されます．"
      ]
    },
    {
      "cell_type": "code",
      "metadata": {
        "id": "GOayWVD0KgxR",
        "colab": {
          "base_uri": "https://localhost:8080/",
          "height": 475
        },
        "outputId": "c49a38c5-512e-408b-d444-f941368e6a05"
      },
      "source": [
        "import pandas as pd\n",
        "import numpy as np\n",
        "from sklearn.model_selection import train_test_split\n",
        "\n",
        "# csvファイルの読み込み\n",
        "df = pd.read_csv('https://bit.ly/3q3kCYF')\n",
        "\n",
        "# データを表示\n",
        "df"
      ],
      "execution_count": null,
      "outputs": [
        {
          "output_type": "execute_result",
          "data": {
            "text/plain": [
              "     Survived                                               Name  Sex   Age  \\\n",
              "0           0                             Mr. Owen Harris Braund    0  22.0   \n",
              "1           1  Mrs. John Bradley (Florence Briggs Thayer) Cum...    1  38.0   \n",
              "2           1                              Miss. Laina Heikkinen    1  26.0   \n",
              "3           1        Mrs. Jacques Heath (Lily May Peel) Futrelle    1  35.0   \n",
              "4           0                            Mr. William Henry Allen    0  35.0   \n",
              "..        ...                                                ...  ...   ...   \n",
              "882         0                               Rev. Juozas Montvila    0  27.0   \n",
              "883         1                        Miss. Margaret Edith Graham    1  19.0   \n",
              "884         0                     Miss. Catherine Helen Johnston    1   7.0   \n",
              "885         1                               Mr. Karl Howell Behr    0  26.0   \n",
              "886         0                                 Mr. Patrick Dooley    0  32.0   \n",
              "\n",
              "     Pclass  Siblings/Spouses Aboard  Parents/Children Aboard     Fare  \n",
              "0         3                        1                        0   7.2500  \n",
              "1         1                        1                        0  71.2833  \n",
              "2         3                        0                        0   7.9250  \n",
              "3         1                        1                        0  53.1000  \n",
              "4         3                        0                        0   8.0500  \n",
              "..      ...                      ...                      ...      ...  \n",
              "882       2                        0                        0  13.0000  \n",
              "883       1                        0                        0  30.0000  \n",
              "884       3                        1                        2  23.4500  \n",
              "885       1                        0                        0  30.0000  \n",
              "886       3                        0                        0   7.7500  \n",
              "\n",
              "[887 rows x 8 columns]"
            ],
            "text/html": [
              "\n",
              "  <div id=\"df-4f74d1d9-0724-4a53-81f9-a919e78aadf1\" class=\"colab-df-container\">\n",
              "    <div>\n",
              "<style scoped>\n",
              "    .dataframe tbody tr th:only-of-type {\n",
              "        vertical-align: middle;\n",
              "    }\n",
              "\n",
              "    .dataframe tbody tr th {\n",
              "        vertical-align: top;\n",
              "    }\n",
              "\n",
              "    .dataframe thead th {\n",
              "        text-align: right;\n",
              "    }\n",
              "</style>\n",
              "<table border=\"1\" class=\"dataframe\">\n",
              "  <thead>\n",
              "    <tr style=\"text-align: right;\">\n",
              "      <th></th>\n",
              "      <th>Survived</th>\n",
              "      <th>Name</th>\n",
              "      <th>Sex</th>\n",
              "      <th>Age</th>\n",
              "      <th>Pclass</th>\n",
              "      <th>Siblings/Spouses Aboard</th>\n",
              "      <th>Parents/Children Aboard</th>\n",
              "      <th>Fare</th>\n",
              "    </tr>\n",
              "  </thead>\n",
              "  <tbody>\n",
              "    <tr>\n",
              "      <th>0</th>\n",
              "      <td>0</td>\n",
              "      <td>Mr. Owen Harris Braund</td>\n",
              "      <td>0</td>\n",
              "      <td>22.0</td>\n",
              "      <td>3</td>\n",
              "      <td>1</td>\n",
              "      <td>0</td>\n",
              "      <td>7.2500</td>\n",
              "    </tr>\n",
              "    <tr>\n",
              "      <th>1</th>\n",
              "      <td>1</td>\n",
              "      <td>Mrs. John Bradley (Florence Briggs Thayer) Cum...</td>\n",
              "      <td>1</td>\n",
              "      <td>38.0</td>\n",
              "      <td>1</td>\n",
              "      <td>1</td>\n",
              "      <td>0</td>\n",
              "      <td>71.2833</td>\n",
              "    </tr>\n",
              "    <tr>\n",
              "      <th>2</th>\n",
              "      <td>1</td>\n",
              "      <td>Miss. Laina Heikkinen</td>\n",
              "      <td>1</td>\n",
              "      <td>26.0</td>\n",
              "      <td>3</td>\n",
              "      <td>0</td>\n",
              "      <td>0</td>\n",
              "      <td>7.9250</td>\n",
              "    </tr>\n",
              "    <tr>\n",
              "      <th>3</th>\n",
              "      <td>1</td>\n",
              "      <td>Mrs. Jacques Heath (Lily May Peel) Futrelle</td>\n",
              "      <td>1</td>\n",
              "      <td>35.0</td>\n",
              "      <td>1</td>\n",
              "      <td>1</td>\n",
              "      <td>0</td>\n",
              "      <td>53.1000</td>\n",
              "    </tr>\n",
              "    <tr>\n",
              "      <th>4</th>\n",
              "      <td>0</td>\n",
              "      <td>Mr. William Henry Allen</td>\n",
              "      <td>0</td>\n",
              "      <td>35.0</td>\n",
              "      <td>3</td>\n",
              "      <td>0</td>\n",
              "      <td>0</td>\n",
              "      <td>8.0500</td>\n",
              "    </tr>\n",
              "    <tr>\n",
              "      <th>...</th>\n",
              "      <td>...</td>\n",
              "      <td>...</td>\n",
              "      <td>...</td>\n",
              "      <td>...</td>\n",
              "      <td>...</td>\n",
              "      <td>...</td>\n",
              "      <td>...</td>\n",
              "      <td>...</td>\n",
              "    </tr>\n",
              "    <tr>\n",
              "      <th>882</th>\n",
              "      <td>0</td>\n",
              "      <td>Rev. Juozas Montvila</td>\n",
              "      <td>0</td>\n",
              "      <td>27.0</td>\n",
              "      <td>2</td>\n",
              "      <td>0</td>\n",
              "      <td>0</td>\n",
              "      <td>13.0000</td>\n",
              "    </tr>\n",
              "    <tr>\n",
              "      <th>883</th>\n",
              "      <td>1</td>\n",
              "      <td>Miss. Margaret Edith Graham</td>\n",
              "      <td>1</td>\n",
              "      <td>19.0</td>\n",
              "      <td>1</td>\n",
              "      <td>0</td>\n",
              "      <td>0</td>\n",
              "      <td>30.0000</td>\n",
              "    </tr>\n",
              "    <tr>\n",
              "      <th>884</th>\n",
              "      <td>0</td>\n",
              "      <td>Miss. Catherine Helen Johnston</td>\n",
              "      <td>1</td>\n",
              "      <td>7.0</td>\n",
              "      <td>3</td>\n",
              "      <td>1</td>\n",
              "      <td>2</td>\n",
              "      <td>23.4500</td>\n",
              "    </tr>\n",
              "    <tr>\n",
              "      <th>885</th>\n",
              "      <td>1</td>\n",
              "      <td>Mr. Karl Howell Behr</td>\n",
              "      <td>0</td>\n",
              "      <td>26.0</td>\n",
              "      <td>1</td>\n",
              "      <td>0</td>\n",
              "      <td>0</td>\n",
              "      <td>30.0000</td>\n",
              "    </tr>\n",
              "    <tr>\n",
              "      <th>886</th>\n",
              "      <td>0</td>\n",
              "      <td>Mr. Patrick Dooley</td>\n",
              "      <td>0</td>\n",
              "      <td>32.0</td>\n",
              "      <td>3</td>\n",
              "      <td>0</td>\n",
              "      <td>0</td>\n",
              "      <td>7.7500</td>\n",
              "    </tr>\n",
              "  </tbody>\n",
              "</table>\n",
              "<p>887 rows × 8 columns</p>\n",
              "</div>\n",
              "    <div class=\"colab-df-buttons\">\n",
              "\n",
              "  <div class=\"colab-df-container\">\n",
              "    <button class=\"colab-df-convert\" onclick=\"convertToInteractive('df-4f74d1d9-0724-4a53-81f9-a919e78aadf1')\"\n",
              "            title=\"Convert this dataframe to an interactive table.\"\n",
              "            style=\"display:none;\">\n",
              "\n",
              "  <svg xmlns=\"http://www.w3.org/2000/svg\" height=\"24px\" viewBox=\"0 -960 960 960\">\n",
              "    <path d=\"M120-120v-720h720v720H120Zm60-500h600v-160H180v160Zm220 220h160v-160H400v160Zm0 220h160v-160H400v160ZM180-400h160v-160H180v160Zm440 0h160v-160H620v160ZM180-180h160v-160H180v160Zm440 0h160v-160H620v160Z\"/>\n",
              "  </svg>\n",
              "    </button>\n",
              "\n",
              "  <style>\n",
              "    .colab-df-container {\n",
              "      display:flex;\n",
              "      gap: 12px;\n",
              "    }\n",
              "\n",
              "    .colab-df-convert {\n",
              "      background-color: #E8F0FE;\n",
              "      border: none;\n",
              "      border-radius: 50%;\n",
              "      cursor: pointer;\n",
              "      display: none;\n",
              "      fill: #1967D2;\n",
              "      height: 32px;\n",
              "      padding: 0 0 0 0;\n",
              "      width: 32px;\n",
              "    }\n",
              "\n",
              "    .colab-df-convert:hover {\n",
              "      background-color: #E2EBFA;\n",
              "      box-shadow: 0px 1px 2px rgba(60, 64, 67, 0.3), 0px 1px 3px 1px rgba(60, 64, 67, 0.15);\n",
              "      fill: #174EA6;\n",
              "    }\n",
              "\n",
              "    .colab-df-buttons div {\n",
              "      margin-bottom: 4px;\n",
              "    }\n",
              "\n",
              "    [theme=dark] .colab-df-convert {\n",
              "      background-color: #3B4455;\n",
              "      fill: #D2E3FC;\n",
              "    }\n",
              "\n",
              "    [theme=dark] .colab-df-convert:hover {\n",
              "      background-color: #434B5C;\n",
              "      box-shadow: 0px 1px 3px 1px rgba(0, 0, 0, 0.15);\n",
              "      filter: drop-shadow(0px 1px 2px rgba(0, 0, 0, 0.3));\n",
              "      fill: #FFFFFF;\n",
              "    }\n",
              "  </style>\n",
              "\n",
              "    <script>\n",
              "      const buttonEl =\n",
              "        document.querySelector('#df-4f74d1d9-0724-4a53-81f9-a919e78aadf1 button.colab-df-convert');\n",
              "      buttonEl.style.display =\n",
              "        google.colab.kernel.accessAllowed ? 'block' : 'none';\n",
              "\n",
              "      async function convertToInteractive(key) {\n",
              "        const element = document.querySelector('#df-4f74d1d9-0724-4a53-81f9-a919e78aadf1');\n",
              "        const dataTable =\n",
              "          await google.colab.kernel.invokeFunction('convertToInteractive',\n",
              "                                                    [key], {});\n",
              "        if (!dataTable) return;\n",
              "\n",
              "        const docLinkHtml = 'Like what you see? Visit the ' +\n",
              "          '<a target=\"_blank\" href=https://colab.research.google.com/notebooks/data_table.ipynb>data table notebook</a>'\n",
              "          + ' to learn more about interactive tables.';\n",
              "        element.innerHTML = '';\n",
              "        dataTable['output_type'] = 'display_data';\n",
              "        await google.colab.output.renderOutput(dataTable, element);\n",
              "        const docLink = document.createElement('div');\n",
              "        docLink.innerHTML = docLinkHtml;\n",
              "        element.appendChild(docLink);\n",
              "      }\n",
              "    </script>\n",
              "  </div>\n",
              "\n",
              "\n",
              "<div id=\"df-aab691af-c887-4ad4-92dc-1236a856815c\">\n",
              "  <button class=\"colab-df-quickchart\" onclick=\"quickchart('df-aab691af-c887-4ad4-92dc-1236a856815c')\"\n",
              "            title=\"Suggest charts\"\n",
              "            style=\"display:none;\">\n",
              "\n",
              "<svg xmlns=\"http://www.w3.org/2000/svg\" height=\"24px\"viewBox=\"0 0 24 24\"\n",
              "     width=\"24px\">\n",
              "    <g>\n",
              "        <path d=\"M19 3H5c-1.1 0-2 .9-2 2v14c0 1.1.9 2 2 2h14c1.1 0 2-.9 2-2V5c0-1.1-.9-2-2-2zM9 17H7v-7h2v7zm4 0h-2V7h2v10zm4 0h-2v-4h2v4z\"/>\n",
              "    </g>\n",
              "</svg>\n",
              "  </button>\n",
              "\n",
              "<style>\n",
              "  .colab-df-quickchart {\n",
              "      --bg-color: #E8F0FE;\n",
              "      --fill-color: #1967D2;\n",
              "      --hover-bg-color: #E2EBFA;\n",
              "      --hover-fill-color: #174EA6;\n",
              "      --disabled-fill-color: #AAA;\n",
              "      --disabled-bg-color: #DDD;\n",
              "  }\n",
              "\n",
              "  [theme=dark] .colab-df-quickchart {\n",
              "      --bg-color: #3B4455;\n",
              "      --fill-color: #D2E3FC;\n",
              "      --hover-bg-color: #434B5C;\n",
              "      --hover-fill-color: #FFFFFF;\n",
              "      --disabled-bg-color: #3B4455;\n",
              "      --disabled-fill-color: #666;\n",
              "  }\n",
              "\n",
              "  .colab-df-quickchart {\n",
              "    background-color: var(--bg-color);\n",
              "    border: none;\n",
              "    border-radius: 50%;\n",
              "    cursor: pointer;\n",
              "    display: none;\n",
              "    fill: var(--fill-color);\n",
              "    height: 32px;\n",
              "    padding: 0;\n",
              "    width: 32px;\n",
              "  }\n",
              "\n",
              "  .colab-df-quickchart:hover {\n",
              "    background-color: var(--hover-bg-color);\n",
              "    box-shadow: 0 1px 2px rgba(60, 64, 67, 0.3), 0 1px 3px 1px rgba(60, 64, 67, 0.15);\n",
              "    fill: var(--button-hover-fill-color);\n",
              "  }\n",
              "\n",
              "  .colab-df-quickchart-complete:disabled,\n",
              "  .colab-df-quickchart-complete:disabled:hover {\n",
              "    background-color: var(--disabled-bg-color);\n",
              "    fill: var(--disabled-fill-color);\n",
              "    box-shadow: none;\n",
              "  }\n",
              "\n",
              "  .colab-df-spinner {\n",
              "    border: 2px solid var(--fill-color);\n",
              "    border-color: transparent;\n",
              "    border-bottom-color: var(--fill-color);\n",
              "    animation:\n",
              "      spin 1s steps(1) infinite;\n",
              "  }\n",
              "\n",
              "  @keyframes spin {\n",
              "    0% {\n",
              "      border-color: transparent;\n",
              "      border-bottom-color: var(--fill-color);\n",
              "      border-left-color: var(--fill-color);\n",
              "    }\n",
              "    20% {\n",
              "      border-color: transparent;\n",
              "      border-left-color: var(--fill-color);\n",
              "      border-top-color: var(--fill-color);\n",
              "    }\n",
              "    30% {\n",
              "      border-color: transparent;\n",
              "      border-left-color: var(--fill-color);\n",
              "      border-top-color: var(--fill-color);\n",
              "      border-right-color: var(--fill-color);\n",
              "    }\n",
              "    40% {\n",
              "      border-color: transparent;\n",
              "      border-right-color: var(--fill-color);\n",
              "      border-top-color: var(--fill-color);\n",
              "    }\n",
              "    60% {\n",
              "      border-color: transparent;\n",
              "      border-right-color: var(--fill-color);\n",
              "    }\n",
              "    80% {\n",
              "      border-color: transparent;\n",
              "      border-right-color: var(--fill-color);\n",
              "      border-bottom-color: var(--fill-color);\n",
              "    }\n",
              "    90% {\n",
              "      border-color: transparent;\n",
              "      border-bottom-color: var(--fill-color);\n",
              "    }\n",
              "  }\n",
              "</style>\n",
              "\n",
              "  <script>\n",
              "    async function quickchart(key) {\n",
              "      const quickchartButtonEl =\n",
              "        document.querySelector('#' + key + ' button');\n",
              "      quickchartButtonEl.disabled = true;  // To prevent multiple clicks.\n",
              "      quickchartButtonEl.classList.add('colab-df-spinner');\n",
              "      try {\n",
              "        const charts = await google.colab.kernel.invokeFunction(\n",
              "            'suggestCharts', [key], {});\n",
              "      } catch (error) {\n",
              "        console.error('Error during call to suggestCharts:', error);\n",
              "      }\n",
              "      quickchartButtonEl.classList.remove('colab-df-spinner');\n",
              "      quickchartButtonEl.classList.add('colab-df-quickchart-complete');\n",
              "    }\n",
              "    (() => {\n",
              "      let quickchartButtonEl =\n",
              "        document.querySelector('#df-aab691af-c887-4ad4-92dc-1236a856815c button');\n",
              "      quickchartButtonEl.style.display =\n",
              "        google.colab.kernel.accessAllowed ? 'block' : 'none';\n",
              "    })();\n",
              "  </script>\n",
              "</div>\n",
              "\n",
              "  <div id=\"id_ae9d1a65-1863-4a9e-962d-56f769a228ce\">\n",
              "    <style>\n",
              "      .colab-df-generate {\n",
              "        background-color: #E8F0FE;\n",
              "        border: none;\n",
              "        border-radius: 50%;\n",
              "        cursor: pointer;\n",
              "        display: none;\n",
              "        fill: #1967D2;\n",
              "        height: 32px;\n",
              "        padding: 0 0 0 0;\n",
              "        width: 32px;\n",
              "      }\n",
              "\n",
              "      .colab-df-generate:hover {\n",
              "        background-color: #E2EBFA;\n",
              "        box-shadow: 0px 1px 2px rgba(60, 64, 67, 0.3), 0px 1px 3px 1px rgba(60, 64, 67, 0.15);\n",
              "        fill: #174EA6;\n",
              "      }\n",
              "\n",
              "      [theme=dark] .colab-df-generate {\n",
              "        background-color: #3B4455;\n",
              "        fill: #D2E3FC;\n",
              "      }\n",
              "\n",
              "      [theme=dark] .colab-df-generate:hover {\n",
              "        background-color: #434B5C;\n",
              "        box-shadow: 0px 1px 3px 1px rgba(0, 0, 0, 0.15);\n",
              "        filter: drop-shadow(0px 1px 2px rgba(0, 0, 0, 0.3));\n",
              "        fill: #FFFFFF;\n",
              "      }\n",
              "    </style>\n",
              "    <button class=\"colab-df-generate\" onclick=\"generateWithVariable('df')\"\n",
              "            title=\"Generate code using this dataframe.\"\n",
              "            style=\"display:none;\">\n",
              "\n",
              "  <svg xmlns=\"http://www.w3.org/2000/svg\" height=\"24px\"viewBox=\"0 0 24 24\"\n",
              "       width=\"24px\">\n",
              "    <path d=\"M7,19H8.4L18.45,9,17,7.55,7,17.6ZM5,21V16.75L18.45,3.32a2,2,0,0,1,2.83,0l1.4,1.43a1.91,1.91,0,0,1,.58,1.4,1.91,1.91,0,0,1-.58,1.4L9.25,21ZM18.45,9,17,7.55Zm-12,3A5.31,5.31,0,0,0,4.9,8.1,5.31,5.31,0,0,0,1,6.5,5.31,5.31,0,0,0,4.9,4.9,5.31,5.31,0,0,0,6.5,1,5.31,5.31,0,0,0,8.1,4.9,5.31,5.31,0,0,0,12,6.5,5.46,5.46,0,0,0,6.5,12Z\"/>\n",
              "  </svg>\n",
              "    </button>\n",
              "    <script>\n",
              "      (() => {\n",
              "      const buttonEl =\n",
              "        document.querySelector('#id_ae9d1a65-1863-4a9e-962d-56f769a228ce button.colab-df-generate');\n",
              "      buttonEl.style.display =\n",
              "        google.colab.kernel.accessAllowed ? 'block' : 'none';\n",
              "\n",
              "      buttonEl.onclick = () => {\n",
              "        google.colab.notebook.generateWithVariable('df');\n",
              "      }\n",
              "      })();\n",
              "    </script>\n",
              "  </div>\n",
              "\n",
              "    </div>\n",
              "  </div>\n"
            ],
            "application/vnd.google.colaboratory.intrinsic+json": {
              "type": "dataframe",
              "variable_name": "df",
              "summary": "{\n  \"name\": \"df\",\n  \"rows\": 887,\n  \"fields\": [\n    {\n      \"column\": \"Survived\",\n      \"properties\": {\n        \"dtype\": \"number\",\n        \"std\": 0,\n        \"min\": 0,\n        \"max\": 1,\n        \"num_unique_values\": 2,\n        \"samples\": [\n          1,\n          0\n        ],\n        \"semantic_type\": \"\",\n        \"description\": \"\"\n      }\n    },\n    {\n      \"column\": \"Name\",\n      \"properties\": {\n        \"dtype\": \"string\",\n        \"num_unique_values\": 887,\n        \"samples\": [\n          \"Mr. Adolphe Saalfeld\",\n          \"Mr. Joseph Philippe Lemercier Laroche\"\n        ],\n        \"semantic_type\": \"\",\n        \"description\": \"\"\n      }\n    },\n    {\n      \"column\": \"Sex\",\n      \"properties\": {\n        \"dtype\": \"number\",\n        \"std\": 0,\n        \"min\": 0,\n        \"max\": 1,\n        \"num_unique_values\": 2,\n        \"samples\": [\n          1,\n          0\n        ],\n        \"semantic_type\": \"\",\n        \"description\": \"\"\n      }\n    },\n    {\n      \"column\": \"Age\",\n      \"properties\": {\n        \"dtype\": \"number\",\n        \"std\": 14.121908405462555,\n        \"min\": 0.42,\n        \"max\": 80.0,\n        \"num_unique_values\": 89,\n        \"samples\": [\n          33.0,\n          9.0\n        ],\n        \"semantic_type\": \"\",\n        \"description\": \"\"\n      }\n    },\n    {\n      \"column\": \"Pclass\",\n      \"properties\": {\n        \"dtype\": \"number\",\n        \"std\": 0,\n        \"min\": 1,\n        \"max\": 3,\n        \"num_unique_values\": 3,\n        \"samples\": [\n          3,\n          1\n        ],\n        \"semantic_type\": \"\",\n        \"description\": \"\"\n      }\n    },\n    {\n      \"column\": \"Siblings/Spouses Aboard\",\n      \"properties\": {\n        \"dtype\": \"number\",\n        \"std\": 1,\n        \"min\": 0,\n        \"max\": 8,\n        \"num_unique_values\": 7,\n        \"samples\": [\n          1,\n          0\n        ],\n        \"semantic_type\": \"\",\n        \"description\": \"\"\n      }\n    },\n    {\n      \"column\": \"Parents/Children Aboard\",\n      \"properties\": {\n        \"dtype\": \"number\",\n        \"std\": 0,\n        \"min\": 0,\n        \"max\": 6,\n        \"num_unique_values\": 7,\n        \"samples\": [\n          0,\n          1\n        ],\n        \"semantic_type\": \"\",\n        \"description\": \"\"\n      }\n    },\n    {\n      \"column\": \"Fare\",\n      \"properties\": {\n        \"dtype\": \"number\",\n        \"std\": 49.7820404001739,\n        \"min\": 0.0,\n        \"max\": 512.3292,\n        \"num_unique_values\": 248,\n        \"samples\": [\n          11.2417,\n          51.8625\n        ],\n        \"semantic_type\": \"\",\n        \"description\": \"\"\n      }\n    }\n  ]\n}"
            }
          },
          "metadata": {},
          "execution_count": 1
        }
      ]
    },
    {
      "cell_type": "markdown",
      "metadata": {
        "id": "VjE3tu_CdQHJ"
      },
      "source": [
        "**課題①-2**<br>\n",
        "以下の<code>[    イ    ]</code>～<code>[    エ    ]</code>を埋め，特徴量Xおよび正解ラベルyを獲得しましょう．<br>\n",
        "生存状況を正解ラベルy，性別～旅客運賃までを入力X（特徴量）としてください．<br>\n",
        "<code>.values</code>を利用してpandas.DataFrameからnumpy.ndarrayに変換すると，変換後のデータ型はobject型となります．<br>\n",
        "object型は正解ラベルとして利用できないため，型変換を行いint型にしてください（講義資料末尾の補足を参照）．"
      ]
    },
    {
      "cell_type": "code",
      "metadata": {
        "id": "jzmwE6OqdYae"
      },
      "source": [
        "# pandas.DataFrameからnumpy.ndarrayに変換\n",
        "a = df.values\n",
        "\n",
        "# 特徴量Xおよび正解ラベルyを獲得\n",
        "## 注意：yはデータ型をintに変換すること\n",
        "X = a[:,2:8]\n",
        "y = a[:,0].astype(dtype=int)"
      ],
      "execution_count": null,
      "outputs": []
    },
    {
      "cell_type": "markdown",
      "metadata": {
        "id": "R2NVFV-udYFi"
      },
      "source": [
        "**課題①-3**<br>\n",
        "以下の<code>[    オ    ]</code>を埋め，学習データおよびテストデータを獲得しましょう．<br>\n",
        "学習データの割合は80%，テストデータの割合は20%となるようにしてください．"
      ]
    },
    {
      "cell_type": "code",
      "metadata": {
        "id": "cCDo5v8GdcnR"
      },
      "source": [
        "# train_test_splitを用いて訓練データとテストデータに分割\n",
        "X_train, X_test, y_train, y_test = train_test_split(X, y, train_size = 0.8)"
      ],
      "execution_count": null,
      "outputs": []
    },
    {
      "cell_type": "markdown",
      "metadata": {
        "id": "knf0pyC8O-Fn"
      },
      "source": [
        "**課題①-4**<br>\n",
        "X_train，X_test，y_trainおよびy_testの各次元の要素数を<code>.shape</code>を利用して表示しましょう．<br>\n",
        "<code>train_test_split</code>を用いて学習データが80%，テストデータが20%の割合に分けられていれば，Xとyのそれぞれに関して第1次元の要素数が概ね8:2の割合になっていることを確認できます．<br>\n",
        "また，第2次元の要素数は上述した属性の数である6になっていることを確認できます．"
      ]
    },
    {
      "cell_type": "code",
      "metadata": {
        "id": "5ZjEHMB6O9nD",
        "colab": {
          "base_uri": "https://localhost:8080/"
        },
        "outputId": "cf4f3c26-7b69-4e2f-873e-7cf41eb0820b"
      },
      "source": [
        "# X_trainの要素数を表示\n",
        "print(X_train.shape)\n",
        "\n",
        "# X_testの要素数を表示\n",
        "print(X_test.shape)\n",
        "\n",
        "# y_trainの要素数を表示\n",
        "print(y_train.shape)\n",
        "\n",
        "# y_testの要素数を表示\n",
        "print(y_test.shape)"
      ],
      "execution_count": null,
      "outputs": [
        {
          "output_type": "stream",
          "name": "stdout",
          "text": [
            "(709, 6)\n",
            "(178, 6)\n",
            "(709,)\n",
            "(178,)\n"
          ]
        }
      ]
    },
    {
      "cell_type": "markdown",
      "metadata": {
        "id": "wU3duHwQQ308"
      },
      "source": [
        "**課題①-5**<br>\n",
        "X_trainおよびy_trainの先頭行（0番目）の要素を表示しましょう．<br>\n",
        "X_trainには上述した6つの属性の値が，y_trainには生存状況が保持されていることを確認できます．"
      ]
    },
    {
      "cell_type": "code",
      "metadata": {
        "id": "u_GfPBVaQ4Gc",
        "colab": {
          "base_uri": "https://localhost:8080/"
        },
        "outputId": "057d733d-6932-44e0-c30a-d8c01b2d21f6"
      },
      "source": [
        "# X_trainの先頭行の要素\n",
        "print(X_train[0,:])\n",
        "\n",
        "# y_trainの先頭行の要素\n",
        "print(y_train[0])"
      ],
      "execution_count": null,
      "outputs": [
        {
          "output_type": "stream",
          "name": "stdout",
          "text": [
            "[1 3.0 3 3 1 25.4667]\n",
            "0\n"
          ]
        }
      ]
    },
    {
      "cell_type": "markdown",
      "metadata": {
        "id": "Ajbtl9YCCMfW"
      },
      "source": [
        "**課題②**<br>\n",
        "本課題では，K最近傍法に基づく分類を行います．<br>\n",
        "\n",
        "以下の<code>[    カ    ]～[    ケ    ]</code>を埋め，近傍の数を1（n_neighborsを1）とした場合のK最近傍法による分類タスクの学習と評価を行いましょう．\n",
        "\n",
        "* 用いる近傍の数（<code>n_neighbors</code>）：1"
      ]
    },
    {
      "cell_type": "code",
      "metadata": {
        "id": "4FK8h99ZCM3f",
        "colab": {
          "base_uri": "https://localhost:8080/"
        },
        "outputId": "5f888db9-6444-4431-89d0-b2bc2670d479"
      },
      "source": [
        "from sklearn.neighbors import KNeighborsClassifier\n",
        "from sklearn.metrics import accuracy_score\n",
        "\n",
        "# neighborsのKNeighborsClassifierを初期化\n",
        "nn = KNeighborsClassifier(n_neighbors = 1)\n",
        "\n",
        "# 訓練データからモデルを学習\n",
        "nn.fit(X_train, y_train)\n",
        "\n",
        "# モデルを用いてテストデータのラベルを予測\n",
        "y_pred = nn.predict(X_test)\n",
        "\n",
        "# テストデータを用いて精度（正解率）を評価\n",
        "print('accuracy: {}'.format(accuracy_score(y_test, y_pred)))"
      ],
      "execution_count": null,
      "outputs": [
        {
          "output_type": "stream",
          "name": "stdout",
          "text": [
            "accuracy: 0.7303370786516854\n"
          ]
        }
      ]
    },
    {
      "cell_type": "markdown",
      "metadata": {
        "id": "PNq0G3NxVMJV"
      },
      "source": [
        "**課題③**<br>\n",
        "本課題では，K最近傍法に基づく分類を行います．<br>\n",
        "\n",
        "以下の<code>[    コ    ]～[    ス    ]</code>を埋め，近傍の数を3（n_neighborsを3）とした場合のK最近傍法による分類タスクの学習と評価を行いましょう．\n",
        "\n",
        "* 用いる近傍の数（<code>n_neighbors</code>）：3"
      ]
    },
    {
      "cell_type": "code",
      "metadata": {
        "id": "xX0t2QCXVYid",
        "colab": {
          "base_uri": "https://localhost:8080/"
        },
        "outputId": "e99e4567-16d2-4433-81ec-9a468e27aff1"
      },
      "source": [
        "from sklearn.neighbors import KNeighborsClassifier\n",
        "from sklearn.metrics import accuracy_score\n",
        "\n",
        "# neighborsのKNeighborsClassifierを初期化\n",
        "knn = KNeighborsClassifier(n_neighbors = 3)\n",
        "\n",
        "# 訓練データからモデルを学習\n",
        "knn.fit(X_train, y_train)\n",
        "\n",
        "# モデルを用いてテストデータのラベルを予測\n",
        "y_pred = knn.predict(X_test)\n",
        "\n",
        "# テストデータを用いて精度（正解率）を評価\n",
        "print('accuracy: {}'.format(accuracy_score(y_test, y_pred)))"
      ],
      "execution_count": null,
      "outputs": [
        {
          "output_type": "stream",
          "name": "stdout",
          "text": [
            "accuracy: 0.6797752808988764\n"
          ]
        }
      ]
    },
    {
      "cell_type": "markdown",
      "metadata": {
        "id": "DctZGdR9VY8Q"
      },
      "source": [
        "**課題④**<br>\n",
        "本課題では，ニューラルネットワーク（多層パーセプトロン）による分類タスクにチャレンジします．<br>\n",
        "\n",
        "以下の<code>[    セ    ]～[    チ    ]</code>を埋め，ニューラルネットワーク（多層パーセプトロン）による分類タスクの学習と評価を行いましょう．<br>\n",
        "ただし，パラメータを以下に設定すること．\n",
        "\n",
        "* 隠れ層（<code>hidden_layer_sizes</code>）：(100,100)\n",
        "* 活性化関数（<code>activation</code>）：relu\n",
        "* バッチサイズ（<code>batch_size</code>）：255\n",
        "* 最大イテレーション回数（<code>max_iter</code>）：300"
      ]
    },
    {
      "cell_type": "code",
      "metadata": {
        "id": "8pddpp4SMIgN",
        "colab": {
          "base_uri": "https://localhost:8080/"
        },
        "outputId": "18a8649f-9b32-4515-c657-32b7b1f9b3c8"
      },
      "source": [
        "from sklearn.neural_network import MLPClassifier\n",
        "from sklearn.metrics import accuracy_score\n",
        "\n",
        "# neural_networkのMLPClassifierを初期化\n",
        "mlp = MLPClassifier(hidden_layer_sizes = (100, 100), activation = 'relu', batch_size = 255, max_iter = 300)\n",
        "\n",
        "# 訓練データからモデルを学習\n",
        "mlp.fit(X_train, y_train)\n",
        "\n",
        "# モデルを用いてテストデータのラベルを予測\n",
        "y_pred = mlp.predict(X_test)\n",
        "\n",
        "# テストデータを用いて精度（正解率）を評価\n",
        "print('accuracy: {}'.format(accuracy_score(y_test, y_pred)))"
      ],
      "execution_count": null,
      "outputs": [
        {
          "output_type": "stream",
          "name": "stdout",
          "text": [
            "accuracy: 0.7808988764044944\n"
          ]
        }
      ]
    },
    {
      "cell_type": "markdown",
      "metadata": {
        "id": "dATndb0Lizoz"
      },
      "source": [
        "**課題⑤**<br>\n",
        "これまでの課題で，モデルの性能を評価する手法として正解率（Accuracy）を用いてきました．本課題では，混同行列（Confusion Matrix）を用いてモデルの評価を行います．<br>\n",
        "以下に，最近傍法のモデルの予測結果（<code>nn.predict(X_test)</code>）と正解ラベル（<code>y_test</code>）から混同行列の計算し，それを描画する例を示します．"
      ]
    },
    {
      "cell_type": "code",
      "metadata": {
        "id": "1Zz90pUOe_kr",
        "colab": {
          "base_uri": "https://localhost:8080/",
          "height": 467
        },
        "outputId": "a68d036a-0f82-4c91-e999-97131a8007b8"
      },
      "source": [
        "from sklearn.metrics import confusion_matrix, ConfusionMatrixDisplay\n",
        "\n",
        "# 混合行列を算出\n",
        "nn_cm = confusion_matrix(y_test, nn.predict(X_test))\n",
        "\n",
        "# 混合行列を表示\n",
        "nn_cm_disp = ConfusionMatrixDisplay(nn_cm, display_labels=nn.classes_)\n",
        "nn_cm_disp.plot()"
      ],
      "execution_count": null,
      "outputs": [
        {
          "output_type": "execute_result",
          "data": {
            "text/plain": [
              "<sklearn.metrics._plot.confusion_matrix.ConfusionMatrixDisplay at 0x7a0ecb248f90>"
            ]
          },
          "metadata": {},
          "execution_count": 17
        },
        {
          "output_type": "display_data",
          "data": {
            "text/plain": [
              "<Figure size 640x480 with 2 Axes>"
            ],
            "image/png": "[encoded data removed]"
          },
          "metadata": {}
        }
      ]
    },
    {
      "cell_type": "markdown",
      "metadata": {
        "id": "S7MC8HvFrtvt"
      },
      "source": [
        "上記を参考に，K近傍法および多層パーセプトロンのモデルの予測結果から混同行列を計算し，それを描画してください．"
      ]
    },
    {
      "cell_type": "code",
      "metadata": {
        "id": "xAfmh1G2gzZU",
        "colab": {
          "base_uri": "https://localhost:8080/",
          "height": 473
        },
        "outputId": "73192e8c-62c6-484b-e400-5150bd230aac"
      },
      "source": [
        "## K近傍法\n",
        "y_pred = knn.predict(X_test)\n",
        "knn_cm = confusion_matrix(y_test, y_pred)\n",
        "knn_cm_disp = ConfusionMatrixDisplay(knn_cm, display_labels=knn.classes_)\n",
        "knn_cm_disp.plot()"
      ],
      "execution_count": null,
      "outputs": [
        {
          "output_type": "execute_result",
          "data": {
            "text/plain": [
              "<sklearn.metrics._plot.confusion_matrix.ConfusionMatrixDisplay at 0x7a0eca656810>"
            ]
          },
          "metadata": {},
          "execution_count": 15
        },
        {
          "output_type": "display_data",
          "data": {
            "text/plain": [
              "<Figure size 640x480 with 2 Axes>"
            ],
            "image/png": "[encoded data removed]"
          },
          "metadata": {}
        }
      ]
    },
    {
      "cell_type": "code",
      "metadata": {
        "id": "1Ld0kitCiji3",
        "colab": {
          "base_uri": "https://localhost:8080/",
          "height": 467
        },
        "outputId": "ccfe58b2-4c0e-40b9-8c3b-9dc8d657e818"
      },
      "source": [
        "## 多層パーセプトロン\n",
        "y_pred = mlp.predict(X_test)\n",
        "mlp_cm = confusion_matrix(y_test, y_pred)\n",
        "mlp_cm_disp = ConfusionMatrixDisplay(mlp_cm, display_labels=mlp.classes_)\n",
        "mlp_cm_disp.plot()"
      ],
      "execution_count": null,
      "outputs": [
        {
          "output_type": "execute_result",
          "data": {
            "text/plain": [
              "<sklearn.metrics._plot.confusion_matrix.ConfusionMatrixDisplay at 0x7a0f05970b10>"
            ]
          },
          "metadata": {},
          "execution_count": 16
        },
        {
          "output_type": "display_data",
          "data": {
            "text/plain": [
              "<Figure size 640x480 with 2 Axes>"
            ],
            "image/png": "[encoded data removed]"
          },
          "metadata": {}
        }
      ]
    }
  ]
}